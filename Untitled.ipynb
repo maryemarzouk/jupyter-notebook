{
 "cells": [
  {
   "cell_type": "code",
   "execution_count": 2,
   "id": "detailed-classification",
   "metadata": {},
   "outputs": [
    {
     "data": {
      "text/plain": [
       "                 Length Class  Mode     \n",
       "direction        1      -none- numeric  \n",
       "x.count          1      -none- numeric  \n",
       "objective        2      -none- numeric  \n",
       "const.count      1      -none- numeric  \n",
       "constraints      8      -none- numeric  \n",
       "int.count        1      -none- numeric  \n",
       "int.vec          1      -none- numeric  \n",
       "bin.count        1      -none- numeric  \n",
       "binary.vec       1      -none- numeric  \n",
       "num.bin.solns    1      -none- numeric  \n",
       "objval           1      -none- numeric  \n",
       "solution         2      -none- numeric  \n",
       "presolve         1      -none- numeric  \n",
       "compute.sens     1      -none- numeric  \n",
       "sens.coef.from   1      -none- numeric  \n",
       "sens.coef.to     1      -none- numeric  \n",
       "duals            1      -none- numeric  \n",
       "duals.from       1      -none- numeric  \n",
       "duals.to         1      -none- numeric  \n",
       "scale            1      -none- numeric  \n",
       "use.dense        1      -none- numeric  \n",
       "dense.col        1      -none- numeric  \n",
       "dense.val        1      -none- numeric  \n",
       "dense.const.nrow 1      -none- numeric  \n",
       "dense.ctr        1      -none- numeric  \n",
       "use.rw           1      -none- numeric  \n",
       "tmp              1      -none- character\n",
       "status           1      -none- numeric  "
      ]
     },
     "metadata": {},
     "output_type": "display_data"
    },
    {
     "data": {
      "text/html": [
       "<style>\n",
       ".list-inline {list-style: none; margin:0; padding: 0}\n",
       ".list-inline>li {display: inline-block}\n",
       ".list-inline>li:not(:last-child)::after {content: \"\\00b7\"; padding: 0 .5ex}\n",
       "</style>\n",
       "<ol class=list-inline><li>88</li><li>20</li></ol>\n"
      ],
      "text/latex": [
       "\\begin{enumerate*}\n",
       "\\item 88\n",
       "\\item 20\n",
       "\\end{enumerate*}\n"
      ],
      "text/markdown": [
       "1. 88\n",
       "2. 20\n",
       "\n",
       "\n"
      ],
      "text/plain": [
       "[1] 88 20"
      ]
     },
     "metadata": {},
     "output_type": "display_data"
    },
    {
     "data": {
      "text/html": [
       "2600"
      ],
      "text/latex": [
       "2600"
      ],
      "text/markdown": [
       "2600"
      ],
      "text/plain": [
       "[1] 2600"
      ]
     },
     "metadata": {},
     "output_type": "display_data"
    }
   ],
   "source": [
    "#install.packages(\"lpSolve\")\n",
    "library(lpSolve)\n",
    "\n",
    "\n",
    "\n",
    "#Setting the coefficients of decision variables\n",
    "#objective.in=c(25,20)\n",
    "\n",
    "#Constraint Matrix\n",
    "const.mat=matrix(c(20,12,5,5),nrow = 2,byrow = T)\n",
    "\n",
    "#defining constraints\n",
    "const_time=540  #in minutes\n",
    "const_res=2000\n",
    "\n",
    "#RHS for constraints\n",
    "const.rhs=c(const_res,const_time)\n",
    "\n",
    "#Direction for constraints\n",
    "const.dir=c(\"<=\",\"<=\")\n",
    "\n",
    "\n",
    "#Finding the optimum solution\n",
    "opt=lp(direction = \"min\",objective.in,const.mat,const.dir,const.rhs)\n",
    "summary(opt)\n",
    "\n",
    "\n",
    "#Objective values of x and y\n",
    "opt$solution\n",
    "\n",
    "#Value of objective function at optimal point\n",
    "opt$objval"
   ]
  },
  {
   "cell_type": "code",
   "execution_count": null,
   "id": "rental-deputy",
   "metadata": {},
   "outputs": [],
   "source": []
  }
 ],
 "metadata": {
  "kernelspec": {
   "display_name": "R",
   "language": "R",
   "name": "ir"
  },
  "language_info": {
   "codemirror_mode": "r",
   "file_extension": ".r",
   "mimetype": "text/x-r-source",
   "name": "R",
   "pygments_lexer": "r",
   "version": "3.6.3"
  }
 },
 "nbformat": 4,
 "nbformat_minor": 5
}
